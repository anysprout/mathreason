{
  "cells": [
    {
      "cell_type": "raw",
      "id": "e3336b87",
      "metadata": {},
      "source": [
        "---\n",
        "title: \"Ancient Greece\"\n",
        "---"
      ]
    },
    {
      "cell_type": "markdown",
      "id": "38a6f6e7",
      "metadata": {},
      "source": [
        "The study of logic has two origins, philosophy and geometry. In many places throughout the world, people tried to establish rules of logic in order to clarify and resolve philosophical and political arguments.\n",
        "\n",
        "However, in ancient Greece, there was a rather different context in which logic was studied. Over several centuries, the cultures of Greece, Babylon, Egypt, and more, all had discovered thousands of geometric ideas and theorems. For instance, it was known that\n",
        "\n",
        "-   The interior angles of a triangle sum to 180 degrees.\n",
        "\n",
        "-   The Pythagorean theorem, relating the side lengths of a right triangle.\n",
        "\n",
        "-   For any line and point not on the line, there is a parallel line through the point.\n"
      ]
    },
    {
      "cell_type": "code",
      "execution_count": 1,
      "id": "1d9f8cd7",
      "metadata": {},
      "outputs": [
        {
          "data": {
            "text/html": [
              "<pre style=\"white-space:pre;overflow-x:auto;line-height:normal;font-family:Menlo,'DejaVu Sans Mono',consolas,'Courier New',monospace\">Manim Community <span style=\"color: #008000; text-decoration-color: #008000\">v0.17.3</span>\n",
              "\n",
              "</pre>\n"
            ],
            "text/plain": [
              "Manim Community \u001b[32mv0.\u001b[0m\u001b[32m17.3\u001b[0m\n",
              "\n"
            ]
          },
          "metadata": {},
          "output_type": "display_data"
        }
      ],
      "source": [
        "from manim import *\n",
        "config.media_width = \"100%\""
      ]
    },
    {
      "cell_type": "code",
      "execution_count": 4,
      "id": "c3bf0c23",
      "metadata": {},
      "outputs": [
        {
          "name": "stderr",
          "output_type": "stream",
          "text": [
            "                                                                          \r"
          ]
        },
        {
          "data": {
            "text/html": [
              "<video src=\"media\\jupyter\\LinePointParallel@2023-07-26@14-56-22.mp4\" controls autoplay loop style=\"max-width: 100%;\"  >\n",
              "      Your browser does not support the <code>video</code> element.\n",
              "    </video>"
            ],
            "text/plain": [
              "<IPython.core.display.Video object>"
            ]
          },
          "metadata": {},
          "output_type": "display_data"
        }
      ],
      "source": [
        "%%manim -qm -v WARNING LinePointParallel\n",
        "\n",
        "class LinePointParallel(Scene):\n",
        "    def construct(self):\n",
        "        l = Line([7,9,0],[-5,-5,0])\n",
        "        self.play(Create(l))\n",
        "        p = Dot([2,-1,0])\n",
        "        self.play(Create(p))\n",
        "        self.wait(3)"
      ]
    },
    {
      "cell_type": "code",
      "execution_count": 7,
      "id": "7e2679e6",
      "metadata": {},
      "outputs": [
        {
          "data": {
            "text/plain": [
              "'((not P) or Q)'"
            ]
          },
          "execution_count": 7,
          "metadata": {},
          "output_type": "execute_result"
        }
      ],
      "source": [
        "import pyparsing\n",
        "# Here we have to define a \"parser\", which can be a complicated topic.\n",
        "# Rather than explain it, just test the following code to see what it \n",
        "# does.\n",
        "\n",
        "terms = pyparsing.Word(pyparsing.alphas) | \"not\" | \"and\" | \"or\" | \"if\" | \"then\" | \"iff\" \n",
        "nesting = pyparsing.nestedExpr( '(', ')', content=terms)\n",
        "\n",
        "# print(nesting.parseString(\"((not P) or (not Q)) or R\"))\n",
        "# print(nesting.parseString(\"(((not P) or (not Q)) or R)\"))\n",
        "\n",
        "# An abstract class\n",
        "class Proposition:\n",
        "    pass\n",
        "\n",
        "class PropVariable(Proposition):\n",
        "    def __init__(self, v):\n",
        "        assert (type(v) == str and len(v) == 1) \n",
        "        self.v = v\n",
        "    def __str__(self):\n",
        "        return(self.v)\n",
        "\n",
        "class Negation(Proposition):\n",
        "    def __init__(self, beta):\n",
        "        assert issubclass(type(beta),Proposition)\n",
        "        self.neg = beta\n",
        "    def __str__(self):\n",
        "        return(\"(not \" + str(self.neg) + \")\")\n",
        "\n",
        "class Disjunction(Proposition):\n",
        "    def __init__(self, beta, gamma):\n",
        "        assert issubclass(type(beta),Proposition) \\\n",
        "            and issubclass(type(gamma),Proposition)\n",
        "        self.left, self.right = beta, gamma\n",
        "    def __str__(self):\n",
        "        return(\"(\"+str(self.left)+\" or \" + str(self.right) + \")\")\n",
        "\n",
        "p, q, r = PropVariable(\"P\"), PropVariable(\"Q\"), \\\n",
        "    PropVariable(\"R\")\n",
        "\n",
        "notp = Negation(p)\n",
        "notporq = Disjunction(q,notp)\n",
        "\n",
        "string = \"(not P) or Q\"\n",
        "    \n",
        "def parseTree(s): \n",
        "    p = nesting.parseString(\"(\"+s+\")\")[0]\n",
        "    # First, there can be a lot of extraneous list embedding, especially \n",
        "    # if there were extraneous parentheses.  So we peel them off until \n",
        "    # there is something interesting.  \n",
        "    while type(p) == type([]) and len(p) == 1:\n",
        "        p = p[0]\n",
        "    return pthelper(p)\n",
        "\n",
        "def pthelper(p):\n",
        "    if type(p) == type(\"\"):\n",
        "        return PropVariable(p)\n",
        "    if len(p) == 2:\n",
        "        assert( p[0] == \"not\" )\n",
        "        return Negation(pthelper(p[1]))\n",
        "    if len(p) == 3:\n",
        "        if p[1] == \"or\": return Disjunction(pthelper(p[0]), pthelper(p[2]))\n",
        "        raise Exception(\"length 3 list but unrecognized middle token\")\n",
        "    raise Exception(\"length of list unrecognized\")\n",
        "\n",
        "str(parseTree(string))"
      ]
    },
    {
      "cell_type": "code",
      "execution_count": null,
      "id": "e528ef2c",
      "metadata": {},
      "outputs": [],
      "source": []
    }
  ],
  "metadata": {
    "kernelspec": {
      "display_name": "Python 3 (ipykernel)",
      "language": "python",
      "name": "python3"
    },
    "language_info": {
      "codemirror_mode": {
        "name": "ipython",
        "version": 3
      },
      "file_extension": ".py",
      "mimetype": "text/x-python",
      "name": "python",
      "nbconvert_exporter": "python",
      "pygments_lexer": "ipython3",
      "version": "3.11.4"
    }
  },
  "nbformat": 4,
  "nbformat_minor": 5
}

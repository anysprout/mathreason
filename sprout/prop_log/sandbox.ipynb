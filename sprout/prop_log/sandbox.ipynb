{
 "cells": [
  {
   "cell_type": "code",
   "execution_count": 14,
   "metadata": {},
   "outputs": [],
   "source": [
    "### OLD CODE ###\n",
    "import pyparsing as pp\n",
    "\n",
    "class Proposition:\n",
    "    pass\n",
    "\n",
    "class PropVariable(Proposition):\n",
    "    def __init__(self, v):\n",
    "        assert (type(v) == type(\"\") and len(v) == 1) \n",
    "        self.v = v\n",
    "    def __str__(self):\n",
    "        return(self.v)\n",
    "    def eval(self, prop_eval):\n",
    "        return prop_eval(self.v)\n",
    "    def __eq__(self, p):\n",
    "        if type(p) == PropVariable: return p.v == self.v\n",
    "        return False\n",
    "\n",
    "class Negation(Proposition):\n",
    "    def __init__(self, beta):\n",
    "        assert issubclass(type(beta),Proposition)\n",
    "        self.neg = beta\n",
    "    def __str__(self):\n",
    "        return(\"(not \" + str(self.neg) + \")\")\n",
    "    def eval(self, prop_eval):\n",
    "        return(not self.neg.eval(prop_eval))\n",
    "    def __eq__(self, p):\n",
    "        if type(p) == Negation: return p.neg == self.neg\n",
    "        return False\n",
    "\n",
    "class Disjunction(Proposition):\n",
    "    def __init__(self, beta, gamma):\n",
    "        assert issubclass(type(beta),Proposition) \\\n",
    "            and issubclass(type(gamma),Proposition)\n",
    "        self.left, self.right = beta, gamma\n",
    "    def __str__(self):\n",
    "        return(\"(\" + str(self.left )+\" or \" + str(self.right) + \")\")\n",
    "    def eval(self, prop_eval):\n",
    "        l, r = self.left.eval(prop_eval), self.right.eval(prop_eval)\n",
    "        return( l or r )\n",
    "    def __eq__(self, p): \n",
    "        if type(p) == Disjunction: \n",
    "            return p.left == self.left and p.right == self.right\n",
    "        return False\n",
    "\n",
    "class Conditional(Proposition):\n",
    "    def __init__(self, beta, gamma):\n",
    "        assert issubclass(type(beta),Proposition) \\\n",
    "            and issubclass(type(gamma),Proposition)\n",
    "        self.ante, self.conseq = beta, gamma\n",
    "    def __str__(self):\n",
    "        return(\"(if \" + str(self.ante) + \" then \" + str(self.conseq) + \")\")\n",
    "    def eval(self, prop_eval):\n",
    "        ante, conseq = self.ante.eval(prop_eval), self.conseq.eval(prop_eval)\n",
    "        return (not ante) or conseq\n",
    "    def __eq__(self, p) -> bool:\n",
    "        if type(p) == Conditional:\n",
    "            return p.ante==self.ante and p.conseq==self.conseq\n",
    "        return False\n",
    "\n",
    "def parseTree(p):\n",
    "    if type(p) == type(\"\"):\n",
    "        return PropVariable(p)\n",
    "    if len(p) == 1:\n",
    "        return parseTree(p[0])\n",
    "    if len(p) == 2:\n",
    "        assert( p[0] == \"not\" )\n",
    "        return Negation(parseTree(p[1]))\n",
    "    \n",
    "    if len(p) == 3:\n",
    "        if p[1] == \"or\": return Disjunction(parseTree(p[0]), parseTree(p[2]))\n",
    "        raise Exception(\"length 3 list but unrecognized middle token\")\n",
    "    if len(p) == 4:\n",
    "        if p[0] == \"if\" and p[2] == \"then\":\n",
    "            return Conditional(parseTree(p[1]),parseTree(p[3]))\n",
    "    raise Exception(\"length of list unrecognized\")\n",
    "\n",
    "terms = pp.Word(pp.alphas) | \"not\" | \"and\" | \"or\" | \"if\" | \"then\" | \"iff\" \n",
    "nesting = pp.nestedExpr( '(', ')', content=terms )\n",
    "\n",
    "def shape(s): \n",
    "    if s.strip() == \"\": return \"\"\n",
    "    p = nesting.parseString(\"(\"+s+\")\")[0]\n",
    "    \n",
    "    return parseTree(p)"
   ]
  },
  {
   "cell_type": "code",
   "execution_count": 15,
   "metadata": {},
   "outputs": [],
   "source": [
    "### NEW CODE ###\n",
    "def disjunction_elimination(sup1,sup2,conc):\n",
    "    # For disjunction elimination, one proposition must be a disjunction\n",
    "    # and the other must be a negation.\n",
    "    disj, neg = sup1, sup2\n",
    "    if type(disj) != Disjunction: \n",
    "        disj, neg = sup2, sup1\n",
    "    if type(disj) != Disjunction or type(neg) != Negation: \n",
    "        return False\n",
    "  \n",
    "    # In order to reach this line of the function, we must have a disjunction\n",
    "    # in `disj` and negation in `neg`.  \n",
    "    \n",
    "    # Now in order to be an instance of *Disjunction Elimination*, the \n",
    "    # propsition under the negation must match one of the two disjuncts.\n",
    "    # Whichever disjunct matches, the other disjunct should be the final \n",
    "    # proposition in the inference (the conclusion).\n",
    "    under = neg.neg\n",
    "    other = disj.right\n",
    "    if under != disj.left:\n",
    "        other = disj.left\n",
    "        if under != disj.right: \n",
    "            return False\n",
    "    return other == conc\n",
    "\n",
    "# disj = shape(\"P or Q\")\n",
    "# neg = shape(\"not P\")\n",
    "# conc = shape(\"Q\")\n",
    "\n",
    "# print(disjunction_elimination(disj,neg,conc))"
   ]
  },
  {
   "cell_type": "code",
   "execution_count": 16,
   "metadata": {},
   "outputs": [],
   "source": [
    "### BORING CODE ###\n",
    "def rows_list(argument):\n",
    "    level = 0\n",
    "    bucket = []\n",
    "    row = \"\"\n",
    "    for c in argument:\n",
    "        if c == \")\": \n",
    "            level -= 1\n",
    "            if level == 0:\n",
    "                bucket.append(row)\n",
    "                row = \"\"\n",
    "        if level > 0: row += c\n",
    "        if c == \"(\": level += 1\n",
    "    return bucket\n"
   ]
  },
  {
   "cell_type": "code",
   "execution_count": 17,
   "metadata": {},
   "outputs": [],
   "source": [
    "\n",
    "def incr_rownum(num, reason_name):\n",
    "    if reason_name == \"Assumption\":\n",
    "        num += [1]\n",
    "    elif reason_name == \"End Subproof\":\n",
    "        num = num[:-1]\n",
    "        num[-1] += 1\n",
    "    else:\n",
    "        num[-1] += 1\n"
   ]
  },
  {
   "cell_type": "code",
   "execution_count": 18,
   "metadata": {},
   "outputs": [],
   "source": [
    "\n",
    "def row_string_to_list(rs):\n",
    "    bucket = rs.split(\".\")[:-1]\n",
    "    for i in range(len(bucket)):\n",
    "        bucket[i] = int(bucket[i])\n",
    "    return bucket\n"
   ]
  },
  {
   "cell_type": "code",
   "execution_count": 19,
   "metadata": {},
   "outputs": [],
   "source": [
    "\n",
    "def x_sees_y(x, y):\n",
    "    n1, n2 = len(y), len(x)\n",
    "    if n2 < n1: return False\n",
    "    for i in range(n1-1):\n",
    "        if y[i] != x[i]: \n",
    "            return False\n",
    "    return y[n1-1] <= x[n1-1]\n"
   ]
  },
  {
   "cell_type": "code",
   "execution_count": 29,
   "metadata": {},
   "outputs": [
    {
     "name": "stdout",
     "output_type": "stream",
     "text": [
      "True\n"
     ]
    }
   ],
   "source": [
    "\n",
    "### INTERESTING CODE ###\n",
    "def validate(argument):\n",
    "    # Preprocess the argument into a list of lists.  \n",
    "    rl = rows_list(argument)\n",
    "    for i in range(len(rl)):\n",
    "        rl[i] = rl[i].split(\"; \")\n",
    "        rl[i][0] = row_string_to_list(rl[i][0])\n",
    "        rl[i][1] = shape(rl[i][1])\n",
    "    # When the preprocessing is done, the input \n",
    "    # \"(1.; P or Q; Premise), (2.; R or (P or Q); Disjunction Introduction, 1.)\" \n",
    "    # looks like \n",
    "    # [[[1], Disjunction(...), \"Premise\"], \\\n",
    "    #  [[2], Disjunction(...), \"Disjunction Introduction, 1.\"]]\n",
    "\n",
    "    # We will validate the row numbering of the argument, by \n",
    "    # building our own row numbering as we iterate through the \n",
    "    # list, and check that it matches the given numbering.\n",
    "    rownum = [1]\n",
    "    for i, row in enumerate(rl):\n",
    "        \n",
    "        if rownum != row[0]:\n",
    "            raise Exception(\"Invalid row numbering.\")\n",
    "        \n",
    "        reason = row[2].split(\", \")\n",
    "        reason_name = reason[0]\n",
    "        incr_rownum(rownum, reason_name)\n",
    "\n",
    "        if reason_name in [\"Premise\", \"Assumption\"]: continue\n",
    "\n",
    "        # Validating *Disjunction Elimination* requires \n",
    "        if reason_name == \"Disjunction Elimination\":\n",
    "            # finding the referenced row numbers\n",
    "            sup_ind1 = row_string_to_list(reason[1]) \n",
    "            sup_ind2 = row_string_to_list(reason[2])\n",
    "\n",
    "            # checking that they're not in a closed \n",
    "            # subproof\n",
    "            if not (x_sees_y(row[0],sup_ind1) and \\\n",
    "                    x_sees_y(row[0],sup_ind2)):\n",
    "                return False\n",
    "            \n",
    "            # getting the row at these numbers\n",
    "            for r in rl:\n",
    "                if r[0] == sup_ind1:\n",
    "                    sup1 = r[1]\n",
    "                if r[0] == sup_ind2:\n",
    "                    sup2 = r[1]\n",
    "            \n",
    "            # and checking that they match the pattern.\n",
    "            if not disjunction_elimination(sup1,sup2,row[1]):\n",
    "                return False\n",
    "        \n",
    "        if reason_name == \"Conditional Introduction\":\n",
    "            cond_prop = row[1]\n",
    "            next_row = rl[i+1]\n",
    "            if type(cond_prop) != Conditional:\n",
    "                return False\n",
    "            # Conditional introduction checks the next row to see\n",
    "            # that it's the beginning of an assumption with the \n",
    "            # same proposition as is the antecedent of the \n",
    "            # conditional.\n",
    "            cert = next_row[2] == \"Assumption\"\n",
    "            cert *= cond_prop.ante == next_row[1]\n",
    "            if not cert: return False\n",
    "            # Then it finds the closing \"End Subproof\", and checks\n",
    "            # that on the line before, the subproof ended at the \n",
    "            # consequent of the conditional.\n",
    "            cert = False\n",
    "            for j in range(i+1,len(rl)):\n",
    "                if len(rl[j][0]) == len(next_row[0]) \\\n",
    "                    and rl[j][2] == \"End Subproof\" \\\n",
    "                    and rl[j-1][1] == row[1].conseq:\n",
    "                    cert = True\n",
    "            if not cert: return cert\n",
    "        \n",
    "        return True\n",
    "\n",
    "        \n",
    "# disj_argument = \"(1.; P or Q; Premise), (2.; not Q; Premise), (3.; P; Disjunction Elimination, 1., 2.)\"\n",
    "# print(validate(disj_argument))\n",
    "\n",
    "cond_argument = \"(1.; if P then Q; Conditional Introduction), (1.1.; P; Assumption), (1.2.; Q; Premise), (1.3.; ; End Subproof))\"\n",
    "print(validate(cond_argument))\n"
   ]
  },
  {
   "cell_type": "code",
   "execution_count": 2,
   "metadata": {},
   "outputs": [
    {
     "data": {
      "text/html": [
       "<pre style=\"white-space:pre;overflow-x:auto;line-height:normal;font-family:Menlo,'DejaVu Sans Mono',consolas,'Courier New',monospace\">Manim Community <span style=\"color: #008000; text-decoration-color: #008000\">v0.17.3</span>\n",
       "\n",
       "</pre>\n"
      ],
      "text/plain": [
       "Manim Community \u001b[32mv0.\u001b[0m\u001b[32m17.3\u001b[0m\n",
       "\n"
      ]
     },
     "metadata": {},
     "output_type": "display_data"
    }
   ],
   "source": [
    "from manim import *\n",
    "config.media_width = \"100%\""
   ]
  },
  {
   "cell_type": "code",
   "execution_count": 32,
   "metadata": {},
   "outputs": [
    {
     "name": "stderr",
     "output_type": "stream",
     "text": [
      "                                                                                                                    \r"
     ]
    },
    {
     "data": {
      "text/html": [
       "<video src=\"media\\jupyter\\R2@2023-07-26@16-24-09.mp4\" controls autoplay loop style=\"max-width: 100%;\"  >\n",
       "      Your browser does not support the <code>video</code> element.\n",
       "    </video>"
      ],
      "text/plain": [
       "<IPython.core.display.Video object>"
      ]
     },
     "metadata": {},
     "output_type": "display_data"
    }
   ],
   "source": [
    "%%manim -qm -v WARNING R2\n",
    "\n",
    "class R2(Scene):\n",
    "    def construct(self):\n",
    "        plane = NumberPlane()\n",
    "        self.play(Create(plane))\n",
    "\n",
    "        vec = Arrow([0,0,0],[1,2,0], buff=0, color=\"RED\")\n",
    "        self.play(Create(vec))\n",
    "\n",
    "        vec2 = Arrow([0,0,0],[-2,1,0], buff=0, color=\"RED\")\n",
    "        self.play(Transform(vec,vec2))\n",
    "        self.remove(vec)\n",
    "\n",
    "        vec3 = Arrow([0,0,0],[-1,-3,0], buff=0, color=\"RED\")\n",
    "        vec4 = Arrow([0,0,0],[2,0,0], buff=0, color=\"RED\")\n",
    "        vec5 = Arrow([-1,-3,0],[0,-2,0], buff=0, color=\"YELLOW\")\n",
    "\n",
    "        self.play(Transform(vec2,vec4))\n",
    "        self.remove(vec2)\n",
    "        self.play(Transform(vec4,vec3))\n",
    "        self.play(Create(vec5))\n",
    "\n",
    "        label1 = MathTex(r\"\\begin{bmatrix} -1\\\\-2\\end{bmatrix}\", color=RED).move_to([-1,0,0])\n",
    "        self.play(Write(label1))\n",
    "\n",
    "        label2 = MathTex(r\"\\begin{bmatrix} 1\\\\1\\end{bmatrix}\", color=YELLOW).move_to([1,-1,0])\n",
    "        vec6 = Arrow([0,0,0],[1,1,0], buff=0)\n",
    "        self.play(Write(label2))\n",
    "\n",
    "        label3 = MathTex(r\"\\begin{bmatrix}1\\\\1\\end{bmatrix}\").move_to([1,2,0])\n",
    "        self.play(Create(vec6))\n",
    "        self.play(Write(label3))\n",
    "\n",
    "        self.wait(3)\n",
    "        "
   ]
  },
  {
   "cell_type": "code",
   "execution_count": 22,
   "metadata": {},
   "outputs": [
    {
     "name": "stderr",
     "output_type": "stream",
     "text": [
      "                                                                                                                             \r"
     ]
    },
    {
     "data": {
      "text/html": [
       "<video src=\"media\\jupyter\\R3@2023-07-26@18-49-32.mp4\" controls autoplay loop style=\"max-width: 100%;\"  >\n",
       "      Your browser does not support the <code>video</code> element.\n",
       "    </video>"
      ],
      "text/plain": [
       "<IPython.core.display.Video object>"
      ]
     },
     "metadata": {},
     "output_type": "display_data"
    }
   ],
   "source": [
    "%%manim -qm -v WARNING R3\n",
    "\n",
    "class R3(ThreeDScene):\n",
    "    def construct(self):\n",
    "        self.set_camera_orientation(phi=2*PI/5, theta=PI/5)\n",
    "        space = ThreeDAxes()\n",
    "        self.play(Create(space))\n",
    "\n",
    "        vec = Arrow([0,0,0],[1,2,-3], buff=0, color=\"RED\")\n",
    "        vec2 = Arrow([0,0,0],[-2,1,3], buff=0, color=\"RED\")\n",
    "        vec3 = Arrow([0,0,0],[-1,-3,3], buff=0, color=\"RED\")\n",
    "        vec4 = Arrow([0,0,0],[2,0,-4], buff=0, color=\"RED\")\n",
    "        vec5 = Arrow([-1,-3,0],[0,-2,-2], buff=0, color=\"YELLOW\")\n",
    "        vec6 = Arrow([0,0,0],[1,1,0], buff=0)\n",
    "\n",
    "        self.play(Create(vec))\n",
    "\n",
    "        self.play(Transform(vec,vec2))\n",
    "        self.remove(vec)\n",
    "\n",
    "        self.play(Transform(vec2,vec4))\n",
    "        self.remove(vec2)\n",
    "\n",
    "        self.play(Transform(vec4,vec3))\n",
    "        self.play(Create(vec5)) \n",
    "\n",
    "        label1 = MathTex(r\"\\begin{bmatrix} -1\\\\-3\\\\3\\end{bmatrix}\", color=RED).move_to([-2,-2,2])\n",
    "        self.play(Write(label1))\n",
    "\n",
    "        label2 = MathTex(r\"\\begin{bmatrix} 1\\\\1\\\\-2\\end{bmatrix}\", color=YELLOW).move_to([.5,-1.5,-2.5])\n",
    "        self.play(Write(label2))\n",
    "\n",
    "        label3 = MathTex(r\"\\begin{bmatrix}1\\\\1\\\\0\\end{bmatrix}\").move_to([1,2,0])\n",
    "        self.play(Create(vec6))\n",
    "        self.play(Write(label3))\n",
    "\n",
    "        self.move_camera(phi=2*PI/5, theta=-85 * DEGREES, zoom=.5, run_time=1.5)\n",
    "        self.move_camera(phi=1.5*PI/5, theta=-85 * DEGREES, zoom=.5, run_time=1.5)\n",
    "\n",
    "        self.wait(3)\n",
    "        "
   ]
  },
  {
   "cell_type": "code",
   "execution_count": null,
   "metadata": {},
   "outputs": [],
   "source": []
  }
 ],
 "metadata": {
  "kernelspec": {
   "display_name": "Python 3",
   "language": "python",
   "name": "python3"
  },
  "language_info": {
   "codemirror_mode": {
    "name": "ipython",
    "version": 3
   },
   "file_extension": ".py",
   "mimetype": "text/x-python",
   "name": "python",
   "nbconvert_exporter": "python",
   "pygments_lexer": "ipython3",
   "version": "3.11.4"
  },
  "orig_nbformat": 4
 },
 "nbformat": 4,
 "nbformat_minor": 2
}
